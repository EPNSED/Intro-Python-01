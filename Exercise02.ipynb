{
 "cells": [
  {
   "cell_type": "markdown",
   "metadata": {},
   "source": [
    "## Estimate $\\pi$ "
   ]
  },
  {
   "cell_type": "markdown",
   "metadata": {},
   "source": [
    "### Monte Carlo methods"
   ]
  },
  {
   "cell_type": "markdown",
   "metadata": {},
   "source": [
    "Please use Monte Carlo methods method to estimate the $\\pi$. The idea is that the area of unit circle is equal to $ \\pi * r^2 = \\pi * 1^2 = \\pi $. if we enclose the unit circle with a square then the square will have area of 4. Now if we randomly fill the square with n random numbers the probability of point hitting inside the unit circle is $\\pi$/4\n",
    "\n",
    "$                       \\frac{\\pi}{4} = \\frac{number\\space of\\space points\\space inside\\space unit\\space circle}{total\\space number\\space of\\space points} $\n",
    "\n",
    "From this equation we can estimate the value of $\\pi$.\n"
   ]
  },
  {
   "cell_type": "markdown",
   "metadata": {},
   "source": [
    "Write a simple python code to calculate the $\\pi$, only using numpy and python. Chech your answer with the $\\pi$ value provided with numpy. "
   ]
  },
  {
   "cell_type": "code",
   "execution_count": null,
   "metadata": {
    "collapsed": true
   },
   "outputs": [],
   "source": []
  },
  {
   "cell_type": "code",
   "execution_count": null,
   "metadata": {
    "collapsed": true
   },
   "outputs": [],
   "source": []
  }
 ],
 "metadata": {
  "kernelspec": {
   "display_name": "Python 2",
   "language": "python",
   "name": "python2"
  },
  "language_info": {
   "codemirror_mode": {
    "name": "ipython",
    "version": 2
   },
   "file_extension": ".py",
   "mimetype": "text/x-python",
   "name": "python",
   "nbconvert_exporter": "python",
   "pygments_lexer": "ipython2",
   "version": "2.7.5"
  }
 },
 "nbformat": 4,
 "nbformat_minor": 2
}
